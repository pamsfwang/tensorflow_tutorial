{
  "nbformat": 4,
  "nbformat_minor": 0,
  "metadata": {
    "colab": {
      "name": "tensorflow_tutorial.ipynb",
      "version": "0.3.2",
      "provenance": []
    },
    "kernelspec": {
      "name": "python3",
      "display_name": "Python 3"
    }
  },
  "cells": [
    {
      "cell_type": "markdown",
      "metadata": {
        "id": "view-in-github",
        "colab_type": "text"
      },
      "source": [
        "[View in Colaboratory](https://colab.research.google.com/github/pamsfwang/tensorflow_tutorial/blob/master/tensorflow_tutorial.ipynb)"
      ]
    },
    {
      "metadata": {
        "id": "sl7f4WZR8Z-C",
        "colab_type": "text"
      },
      "cell_type": "markdown",
      "source": [
        "**Tensorflow -- Getting start tutorial**\n",
        "\n",
        "https://www.tensorflow.org/get_started/eager\n",
        "\n",
        "TensorFlow's eager execution is an imperative programming environment that evaluates operations immediately, without building graphs: operations return concrete values instead of constructing a computational graph to run later. This makes it easy to get started with TensorFlow and debug models, and it reduces boilerplate as well. To follow along with this guide, run the code samples below in an interactive python interpreter.\n",
        "\n",
        "To start eager execution, add tf.enable_eager_execution() to the beginning of the program or console session. Do not add this operation to other modules that the program calls."
      ]
    },
    {
      "metadata": {
        "id": "m6JGruLLBUGx",
        "colab_type": "code",
        "colab": {}
      },
      "cell_type": "code",
      "source": [
        ""
      ],
      "execution_count": 0,
      "outputs": []
    },
    {
      "metadata": {
        "id": "rBEMw5V78GeP",
        "colab_type": "code",
        "colab": {
          "base_uri": "https://localhost:8080/",
          "height": 51
        },
        "outputId": "c42da495-ea80-4ba3-b88b-ab1bf715b404"
      },
      "cell_type": "code",
      "source": [
        "from __future__ import absolute_import, division, print_function\n",
        "\n",
        "import os\n",
        "import matplotlib.pyplot as plt\n",
        "\n",
        "import tensorflow as tf\n",
        "import tensorflow.contrib.eager as tfe\n",
        "\n",
        "tf.enable_eager_execution()\n",
        "\n",
        "print(\"TensorFlow version: {}\".format(tf.VERSION))\n",
        "print(\"Eager execution: {}\".format(tf.executing_eagerly()))"
      ],
      "execution_count": 1,
      "outputs": [
        {
          "output_type": "stream",
          "text": [
            "TensorFlow version: 1.8.0\n",
            "Eager execution: True\n"
          ],
          "name": "stdout"
        }
      ]
    },
    {
      "metadata": {
        "id": "P-9EGkMw8Rhj",
        "colab_type": "code",
        "colab": {
          "base_uri": "https://localhost:8080/",
          "height": 34
        },
        "outputId": "e56124a8-0cfa-48dc-c5e0-fc9649d94cd4"
      },
      "cell_type": "code",
      "source": [
        "#Import and parse the training dataset\n",
        "\n",
        "train_dataset_url = \"http://download.tensorflow.org/data/iris_training.csv\"\n",
        "\n",
        "train_dataset_fp = tf.keras.utils.get_file(fname=os.path.basename(train_dataset_url),\n",
        "                                           origin=train_dataset_url)\n",
        "\n",
        "print(\"Local copy of the dataset file: {}\".format(train_dataset_fp))"
      ],
      "execution_count": 3,
      "outputs": [
        {
          "output_type": "stream",
          "text": [
            "Local copy of the dataset file: /content/.keras/datasets/iris_training.csv\n"
          ],
          "name": "stdout"
        }
      ]
    },
    {
      "metadata": {
        "id": "cLvGIA2VCGvO",
        "colab_type": "code",
        "colab": {
          "base_uri": "https://localhost:8080/",
          "height": 102
        },
        "outputId": "d7e0668f-4c37-4296-e262-30f2c6b9f0e6"
      },
      "cell_type": "code",
      "source": [
        "!head -n5 {train_dataset_fp}\n"
      ],
      "execution_count": 4,
      "outputs": [
        {
          "output_type": "stream",
          "text": [
            "120,4,setosa,versicolor,virginica\r\n",
            "6.4,2.8,5.6,2.2,2\r\n",
            "5.0,2.3,3.3,1.0,1\r\n",
            "4.9,2.5,4.5,1.7,2\r\n",
            "4.9,3.1,1.5,0.1,0\r\n"
          ],
          "name": "stdout"
        }
      ]
    },
    {
      "metadata": {
        "id": "2YtVIY_CCUbR",
        "colab_type": "code",
        "colab": {}
      },
      "cell_type": "code",
      "source": [
        "def parse_csv(line):\n",
        "  example_defaults = [[0.], [0.], [0.], [0.], [0]]  # sets field types\n",
        "  parsed_line = tf.decode_csv(line, example_defaults)\n",
        "  # First 4 fields are features, combine into single tensor\n",
        "  features = tf.reshape(parsed_line[:-1], shape=(4,))\n",
        "  # Last field is the label\n",
        "  label = tf.reshape(parsed_line[-1], shape=())\n",
        "  return features, label"
      ],
      "execution_count": 0,
      "outputs": []
    },
    {
      "metadata": {
        "id": "-YmnWYdwCo3F",
        "colab_type": "code",
        "colab": {
          "base_uri": "https://localhost:8080/",
          "height": 51
        },
        "outputId": "59700ac9-2ab6-42cc-8056-0450c5857b92"
      },
      "cell_type": "code",
      "source": [
        "train_dataset = tf.data.TextLineDataset(train_dataset_fp)\n",
        "train_dataset = train_dataset.skip(1)             # skip the first header row\n",
        "train_dataset = train_dataset.map(parse_csv)      # parse each row\n",
        "train_dataset = train_dataset.shuffle(buffer_size=1000)  # randomize\n",
        "train_dataset = train_dataset.batch(32)\n",
        "\n",
        "# View a single example entry from a batch\n",
        "features, label = iter(train_dataset).next()\n",
        "print(\"example features:\", features[0])\n",
        "print(\"example label:\", label[0])"
      ],
      "execution_count": 9,
      "outputs": [
        {
          "output_type": "stream",
          "text": [
            "example features: tf.Tensor([6.3 2.5 5.  1.9], shape=(4,), dtype=float32)\n",
            "example label: tf.Tensor(2, shape=(), dtype=int32)\n"
          ],
          "name": "stdout"
        }
      ]
    },
    {
      "metadata": {
        "id": "xjU7D622CvlN",
        "colab_type": "code",
        "colab": {}
      },
      "cell_type": "code",
      "source": [
        "model = tf.keras.Sequential([\n",
        "  tf.keras.layers.Dense(10, activation=\"relu\", input_shape=(4,)),  # input shape required\n",
        "  tf.keras.layers.Dense(10, activation=\"relu\"),\n",
        "  tf.keras.layers.Dense(3)\n",
        "])"
      ],
      "execution_count": 0,
      "outputs": []
    },
    {
      "metadata": {
        "id": "_QwOnXLbC_9M",
        "colab_type": "code",
        "colab": {}
      },
      "cell_type": "code",
      "source": [
        "def loss(model, x, y):\n",
        "  y_ = model(x)\n",
        "  return tf.losses.sparse_softmax_cross_entropy(labels=y, logits=y_)\n",
        "\n",
        "\n",
        "def grad(model, inputs, targets):\n",
        "  with tf.GradientTape() as tape:\n",
        "    loss_value = loss(model, inputs, targets)\n",
        "  return tape.gradient(loss_value, model.variables)"
      ],
      "execution_count": 0,
      "outputs": []
    },
    {
      "metadata": {
        "id": "upDJKYDyDZVZ",
        "colab_type": "code",
        "colab": {}
      },
      "cell_type": "code",
      "source": [
        "optimizer = tf.train.GradientDescentOptimizer(learning_rate=0.01)"
      ],
      "execution_count": 0,
      "outputs": []
    },
    {
      "metadata": {
        "id": "GPKIQNg7DgRG",
        "colab_type": "code",
        "colab": {
          "base_uri": "https://localhost:8080/",
          "height": 102
        },
        "outputId": "d1cda066-81c4-4fcc-fa94-b5c9fad4f3ca"
      },
      "cell_type": "code",
      "source": [
        "## Note: Rerunning this cell uses the same model variables\n",
        "\n",
        "# keep results for plotting\n",
        "train_loss_results = []\n",
        "train_accuracy_results = []\n",
        "\n",
        "num_epochs = 201\n",
        "\n",
        "for epoch in range(num_epochs):\n",
        "  epoch_loss_avg = tfe.metrics.Mean()\n",
        "  epoch_accuracy = tfe.metrics.Accuracy()\n",
        "\n",
        "  # Training loop - using batches of 32\n",
        "  for x, y in train_dataset:\n",
        "    # Optimize the model\n",
        "    grads = grad(model, x, y)\n",
        "    optimizer.apply_gradients(zip(grads, model.variables),\n",
        "                              global_step=tf.train.get_or_create_global_step())\n",
        "\n",
        "    # Track progress\n",
        "    epoch_loss_avg(loss(model, x, y))  # add current batch loss\n",
        "    # compare predicted label to actual label\n",
        "    epoch_accuracy(tf.argmax(model(x), axis=1, output_type=tf.int32), y)\n",
        "\n",
        "  # end epoch\n",
        "  train_loss_results.append(epoch_loss_avg.result())\n",
        "  train_accuracy_results.append(epoch_accuracy.result())\n",
        "  \n",
        "  if epoch % 50 == 0:\n",
        "    print(\"Epoch {:03d}: Loss: {:.3f}, Accuracy: {:.3%}\".format(epoch,\n",
        "                                                                epoch_loss_avg.result(),\n",
        "                                                                epoch_accuracy.result()))"
      ],
      "execution_count": 14,
      "outputs": [
        {
          "output_type": "stream",
          "text": [
            "Epoch 000: Loss: 1.437, Accuracy: 44.167%\n",
            "Epoch 050: Loss: 0.353, Accuracy: 95.000%\n",
            "Epoch 100: Loss: 0.242, Accuracy: 96.667%\n",
            "Epoch 150: Loss: 0.163, Accuracy: 98.333%\n",
            "Epoch 200: Loss: 0.118, Accuracy: 97.500%\n"
          ],
          "name": "stdout"
        }
      ]
    },
    {
      "metadata": {
        "id": "UrKT1BxqDobJ",
        "colab_type": "code",
        "colab": {
          "base_uri": "https://localhost:8080/",
          "height": 558
        },
        "outputId": "0967bf57-a2b8-4806-a2db-5c96ad66b031"
      },
      "cell_type": "code",
      "source": [
        "#Visualization\n",
        "fig, axes = plt.subplots(2, sharex=True, figsize=(12, 8))\n",
        "fig.suptitle('Training Metrics')\n",
        "\n",
        "axes[0].set_ylabel(\"Loss\", fontsize=14)\n",
        "axes[0].plot(train_loss_results)\n",
        "\n",
        "axes[1].set_ylabel(\"Accuracy\", fontsize=14)\n",
        "axes[1].set_xlabel(\"Epoch\", fontsize=14)\n",
        "axes[1].plot(train_accuracy_results)\n",
        "\n",
        "plt.show()"
      ],
      "execution_count": 15,
      "outputs": [
        {
          "output_type": "display_data",
          "data": {
            "image/png": "[encoded data removed]",
            "text/plain": [
              "<matplotlib.figure.Figure at 0x7f3954eea748>"
            ]
          },
          "metadata": {
            "tags": []
          }
        }
      ]
    },
    {
      "metadata": {
        "id": "bzQtxybuDyJ8",
        "colab_type": "code",
        "colab": {}
      },
      "cell_type": "code",
      "source": [
        ""
      ],
      "execution_count": 0,
      "outputs": []
    }
  ]
}